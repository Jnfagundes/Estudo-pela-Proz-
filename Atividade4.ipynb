{
  "nbformat": 4,
  "nbformat_minor": 0,
  "metadata": {
    "colab": {
      "provenance": [],
      "authorship_tag": "ABX9TyMjWFruA+KHhmhN0JxGcU5G",
      "include_colab_link": true
    },
    "kernelspec": {
      "name": "python3",
      "display_name": "Python 3"
    },
    "language_info": {
      "name": "python"
    }
  },
  "cells": [
    {
      "cell_type": "markdown",
      "metadata": {
        "id": "view-in-github",
        "colab_type": "text"
      },
      "source": [
        "<a href=\"https://colab.research.google.com/github/Jnfagundes/Estudo-pela-Proz-/blob/main/Atividade4.ipynb\" target=\"_parent\"><img src=\"https://colab.research.google.com/assets/colab-badge.svg\" alt=\"Open In Colab\"/></a>"
      ]
    },
    {
      "cell_type": "markdown",
      "source": [
        "Desenvolva um programa que recebe do usuário nome completo e ano de nascimento que seja entre 1922 e 2021.\n",
        "A partir dessas informações, o sistema mostrará o nome do usuário e a idade que completou, ou completará, no ano atual (2022).\n",
        "\n",
        "Caso o usuário não digite um número ou apareça um inválido no campo do ano, o sistema informará o erro e continuará perguntando até que um valor correto seja preenchido."
      ],
      "metadata": {
        "id": "2PfsO7-50EiQ"
      }
    },
    {
      "cell_type": "code",
      "execution_count": 2,
      "metadata": {
        "colab": {
          "base_uri": "https://localhost:8080/"
        },
        "id": "5derjl8O0Deh",
        "outputId": "6a52c51f-eb21-4d35-8bf6-6e48ce6c691d"
      },
      "outputs": [
        {
          "output_type": "stream",
          "name": "stdout",
          "text": [
            "Digite seu nome completo: José \n",
            "Digite o ano de nascimento (entre 1922 e 2021): 1822\n",
            "Erro: o ano deve estar entre 1922 e 2021.\n",
            "Digite o ano de nascimento (entre 1922 e 2021): 2022\n",
            "Erro: o ano deve estar entre 1922 e 2021.\n",
            "Digite o ano de nascimento (entre 1922 e 2021): 1980\n",
            "\n",
            "José , você tem ou completará 42 anos em 2022.\n"
          ]
        }
      ],
      "source": [
        "from datetime import datetime\n",
        "\n",
        "def calcular_idade():\n",
        "    ano_atual = 2022\n",
        "\n",
        "    # Recebe o nome completo do usuário\n",
        "    nome = input(\"Digite seu nome completo: \")\n",
        "\n",
        "    while True:\n",
        "        try:\n",
        "            # Recebe o ano de nascimento e valida se é um número dentro do intervalo permitido\n",
        "            ano_nascimento = int(input(\"Digite o ano de nascimento (entre 1922 e 2021): \"))\n",
        "            if 1922 <= ano_nascimento <= 2021:\n",
        "                idade = ano_atual - ano_nascimento\n",
        "                print(f\"\\n{nome}, você tem ou completará {idade} anos em {ano_atual}.\")\n",
        "                break\n",
        "            else:\n",
        "                print(\"Erro: o ano deve estar entre 1922 e 2021.\")\n",
        "        except ValueError:\n",
        "            print(\"Erro: por favor, digite um número válido para o ano de nascimento.\")\n",
        "\n",
        "# Executa o programa\n",
        "calcular_idade()\n"
      ]
    }
  ]
}