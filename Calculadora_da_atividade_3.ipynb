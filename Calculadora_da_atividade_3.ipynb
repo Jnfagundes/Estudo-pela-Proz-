{
  "nbformat": 4,
  "nbformat_minor": 0,
  "metadata": {
    "colab": {
      "provenance": [],
      "authorship_tag": "ABX9TyMO/Eu9I/gG/pQ2s83aDeil",
      "include_colab_link": true
    },
    "kernelspec": {
      "name": "python3",
      "display_name": "Python 3"
    },
    "language_info": {
      "name": "python"
    }
  },
  "cells": [
    {
      "cell_type": "markdown",
      "metadata": {
        "id": "view-in-github",
        "colab_type": "text"
      },
      "source": [
        "<a href=\"https://colab.research.google.com/github/Jnfagundes/Estudo-pela-Proz-/blob/main/Calculadora_da_atividade_3.ipynb\" target=\"_parent\"><img src=\"https://colab.research.google.com/assets/colab-badge.svg\" alt=\"Open In Colab\"/></a>"
      ]
    },
    {
      "cell_type": "code",
      "execution_count": 13,
      "metadata": {
        "colab": {
          "base_uri": "https://localhost:8080/"
        },
        "id": "PORPmQ6CVYO0",
        "outputId": "e7ff9bdd-e959-4a99-e4f2-8eaf0805bac1"
      },
      "outputs": [
        {
          "output_type": "stream",
          "name": "stdout",
          "text": [
            "Calculadora 2.0\n",
            "1: Soma\n",
            "2: Subtração\n",
            "3: Multiplicação\n",
            "4: Divisão\n",
            "0: Sair\n",
            "Digite a opção desejada: 1\n",
            "Digite o primeiro número: 5\n",
            "Digite o segundo número: 4\n",
            "------------------------------\n",
            "O resultado da conta é: 9.0\n",
            "------------------------------\n",
            "Digite a opção desejada: 0\n",
            "************************************************************\n",
            "Sempre que precisar, pode contar comigo. Saindo...\n",
            "************************************************************\n"
          ]
        }
      ],
      "source": [
        "def calculadora( opcao, num, num2):\n",
        "  if opcao == 1:\n",
        "    return num + num2\n",
        "  elif opcao == 2:\n",
        "    return num - num2\n",
        "  elif opcao == 3:\n",
        "    return num * num2\n",
        "  elif opcao == 4:\n",
        "    return num / num\n",
        "  elif opcao == 0:\n",
        "    print('Saindo...')\n",
        "    exit()\n",
        "  else:\n",
        "    print('Essa opção não existe')\n",
        "\n",
        "print(\"Calculadora 2.0\")\n",
        "print(\"1: Soma\")\n",
        "print(\"2: Subtração\")\n",
        "print(\"3: Multiplicação\")\n",
        "print(\"4: Divisão\")\n",
        "print(\"0: Sair\")\n",
        "\n",
        "while True:\n",
        "  opcao = int(input(\"Digite a opção desejada: \"))\n",
        "  if opcao == 0:\n",
        "    print(\"*\"*60)\n",
        "    print(\"Sempre que precisar, pode contar comigo. Saindo...\")\n",
        "    print(\"*\"*60)\n",
        "    break\n",
        "  num = float(input(\"Digite o primeiro número: \"))\n",
        "  num2 = float(input(\"Digite o segundo número: \"))\n",
        "  resultado = calculadora(opcao, num, num2)\n",
        "  print(\"-\"*30)\n",
        "  print(f\"O resultado da conta é: {resultado}\")\n",
        "  print(\"-\"*30)\n",
        "\n"
      ]
    }
  ]
}