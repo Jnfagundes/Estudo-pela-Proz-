{
  "nbformat": 4,
  "nbformat_minor": 0,
  "metadata": {
    "colab": {
      "provenance": [],
      "authorship_tag": "ABX9TyOm0u+o91WH2UdFWJjL9//o",
      "include_colab_link": true
    },
    "kernelspec": {
      "name": "python3",
      "display_name": "Python 3"
    },
    "language_info": {
      "name": "python"
    }
  },
  "cells": [
    {
      "cell_type": "markdown",
      "metadata": {
        "id": "view-in-github",
        "colab_type": "text"
      },
      "source": [
        "<a href=\"https://colab.research.google.com/github/Jnfagundes/Estudo-pela-Proz-/blob/main/projeto_Proz.ipynb\" target=\"_parent\"><img src=\"https://colab.research.google.com/assets/colab-badge.svg\" alt=\"Open In Colab\"/></a>"
      ]
    },
    {
      "cell_type": "markdown",
      "source": [
        "Precisamos imprimir um número para cada andar de um hotel de 20 andares. Porém, o dono do hotel é supersticioso e optou por não ter um 13ro andar.\n",
        "\n",
        "Escreva um código que imprima todos os números exceto o número 13.\n",
        "Escreva mais dois códigos que resolvam o mesmo problema, mas dessa vez usando os outros dois tipos de laços de repetição aprendidos.\n",
        "\n",
        "Como desafio, imprima eles em ordem decrescente (20, 19, 18...)"
      ],
      "metadata": {
        "id": "_U8XjwDg0FzS"
      }
    },
    {
      "cell_type": "code",
      "execution_count": null,
      "metadata": {
        "id": "bw7xaeSx0D7t"
      },
      "outputs": [],
      "source": [
        "print(\"Imprimindo os números de andares (versão com for)\")\n",
        "\n",
        "for andar in range(1, 21):\n",
        "  if andar == 13:\n",
        "    continue\n",
        "  print(f\"Andar {andar}\")"
      ]
    },
    {
      "cell_type": "code",
      "source": [
        "print(\"Imprimindo os números de andares (versão com while)\")\n",
        "\n",
        "andar = 1\n",
        "while andar <= 20:\n",
        "  if andar == 13:\n",
        "    andar += 1\n",
        "    continue\n",
        "  print(f\"Andar {andar}\")\n",
        "  andar += 1"
      ],
      "metadata": {
        "id": "Iy9DCV091Vgl"
      },
      "execution_count": null,
      "outputs": []
    },
    {
      "cell_type": "markdown",
      "source": [
        "Imprimindo os valores em ordem decrescente"
      ],
      "metadata": {
        "id": "vns_S_4C4FWR"
      }
    },
    {
      "cell_type": "code",
      "source": [
        "print(\"Imprimindo os números de andares (versão com for)\")\n",
        "\n",
        "for andar in range(20,0,-1):\n",
        "  if andar == 13:\n",
        "    continue\n",
        "  print(f\"Andar {andar}\")"
      ],
      "metadata": {
        "id": "tzL6JlCi4MYA"
      },
      "execution_count": null,
      "outputs": []
    },
    {
      "cell_type": "code",
      "source": [
        "print(\"Imprimindo os números de andares (versão com while)\")\n",
        "\n",
        "andar = 20\n",
        "while andar >= 1:\n",
        "  if andar == 13:\n",
        "    andar -= 1\n",
        "    continue\n",
        "  print(f\"Andar {andar}\")\n",
        "  andar -= 1"
      ],
      "metadata": {
        "id": "I-PPvLOq4nP6"
      },
      "execution_count": null,
      "outputs": []
    }
  ]
}