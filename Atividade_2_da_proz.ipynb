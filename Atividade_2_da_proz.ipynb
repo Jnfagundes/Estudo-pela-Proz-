{
  "nbformat": 4,
  "nbformat_minor": 0,
  "metadata": {
    "colab": {
      "provenance": [],
      "authorship_tag": "ABX9TyNevqRnxb1GcPiWhb4lmLmK",
      "include_colab_link": true
    },
    "kernelspec": {
      "name": "python3",
      "display_name": "Python 3"
    },
    "language_info": {
      "name": "python"
    }
  },
  "cells": [
    {
      "cell_type": "markdown",
      "metadata": {
        "id": "view-in-github",
        "colab_type": "text"
      },
      "source": [
        "<a href=\"https://colab.research.google.com/github/Jnfagundes/Estudo-pela-Proz-/blob/main/Atividade_2_da_proz.ipynb\" target=\"_parent\"><img src=\"https://colab.research.google.com/assets/colab-badge.svg\" alt=\"Open In Colab\"/></a>"
      ]
    },
    {
      "cell_type": "code",
      "execution_count": 4,
      "metadata": {
        "id": "xszMf75WnjM6",
        "colab": {
          "base_uri": "https://localhost:8080/"
        },
        "outputId": "02d04114-3af4-4117-aff8-330c428c83a1"
      },
      "outputs": [
        {
          "output_type": "stream",
          "name": "stdout",
          "text": [
            "Calculadora \n",
            "Digite um número: 5\n",
            "Digite um segundo número: 2\n",
            "Escolha uma operação que queira executar: 1 - adição, 2 - subtração, 3 - multiplicação, 4 - divisão: 1\n",
            "('O resultado da soma é: ', 7.0)\n",
            "Obrigado por utilizar a calculadora!\n"
          ]
        }
      ],
      "source": [
        "print(\"Calculadora \")\n",
        "\n",
        "def calculadora(num1, num2, operacao):\n",
        "\n",
        "  if operacao == \"1\":\n",
        "    resultado = num1 + num2\n",
        "    return \"O resultado da soma é: \", resultado\n",
        "\n",
        "  elif operacao == \"2\":\n",
        "    resultado = num1 - num2\n",
        "    return \"O resultado da subtração é: \", resultado\n",
        "\n",
        "  elif operacao == \"3\":\n",
        "    resultado = num1 * num2\n",
        "    return \"O resultado da multiplicação é: \", resultado\n",
        "\n",
        "  elif operacao == \"4\":\n",
        "    resultado = num1 / num2\n",
        "    return \"O resultado da divisão é: \", resultado\n",
        "\n",
        "  else:\n",
        "    return 0\n",
        "\n",
        "num1 = float(input(\"Digite um número: \"))\n",
        "num2 = float(input(\"Digite um segundo número: \"))\n",
        "operacao = input(\"Escolha uma operação que queira executar: 1 - adição, 2 - subtração, 3 - multiplicação, 4 - divisão: \")\n",
        "\n",
        "print(calculadora(num1, num2, operacao))\n",
        "\n",
        "print(\"Obrigado por utilizar a calculadora!\")\n"
      ]
    }
  ]
}