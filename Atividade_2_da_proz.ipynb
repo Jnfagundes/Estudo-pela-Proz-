{
  "nbformat": 4,
  "nbformat_minor": 0,
  "metadata": {
    "colab": {
      "provenance": [],
      "authorship_tag": "ABX9TyNicIdlzaTE4S4QdvZ8Eux+",
      "include_colab_link": true
    },
    "kernelspec": {
      "name": "python3",
      "display_name": "Python 3"
    },
    "language_info": {
      "name": "python"
    }
  },
  "cells": [
    {
      "cell_type": "markdown",
      "metadata": {
        "id": "view-in-github",
        "colab_type": "text"
      },
      "source": [
        "<a href=\"https://colab.research.google.com/github/Jnfagundes/Estudo-pela-Proz-/blob/main/Atividade_2_da_proz.ipynb\" target=\"_parent\"><img src=\"https://colab.research.google.com/assets/colab-badge.svg\" alt=\"Open In Colab\"/></a>"
      ]
    },
    {
      "cell_type": "code",
      "execution_count": 5,
      "metadata": {
        "id": "xszMf75WnjM6",
        "colab": {
          "base_uri": "https://localhost:8080/"
        },
        "outputId": "0009612a-98fd-4c8a-829c-6e0c3ab78fbb"
      },
      "outputs": [
        {
          "output_type": "stream",
          "name": "stdout",
          "text": [
            "Calculadora \n",
            "Digite o primeiro número: 5\n",
            "Digite o segundo número: 2\n",
            "Digite uma das opções: 1 - adição, 2 - subtração, 3 - multiplicação, 4 - divisão: 4\n",
            "O resultado da divisão é:  2.5\n"
          ]
        }
      ],
      "source": [
        "print(\"Calculadora \")\n",
        "\n",
        "#solicitando as entradas referentes aos números\n",
        "num1 = float(input(\"Digite o primeiro número: \"))\n",
        "num2 = float(input(\"Digite o segundo número: \"))\n",
        "\n",
        "#entrada referente a operação que poderá ser aplicada\n",
        "operacao = input(\"Digite uma das opções: 1 - adição, 2 - subtração, 3 - multiplicação, 4 - divisão: \")\n",
        "\n",
        "if operacao == \"1\":\n",
        "    resultado = num1 + num2\n",
        "    print(\"O resultado da soma é: \", resultado)\n",
        "\n",
        "elif operacao == \"2\":\n",
        "    resultado = num1 - num2\n",
        "    print(\"O resultado da subtração é: \", resultado)\n",
        "\n",
        "elif operacao == \"3\":\n",
        "    resultado = num1 * num2\n",
        "    print(\"O resultado da multiplicação é: \", resultado)\n",
        "\n",
        "elif operacao == \"4\":\n",
        "    resultado = num1 / num2\n",
        "    print(\"O resultado da divisão é: \", resultado)\n",
        "\n",
        "else:\n",
        "  print(\"Você digitou um valor inválido. Tente novamente.\")"
      ]
    }
  ]
}